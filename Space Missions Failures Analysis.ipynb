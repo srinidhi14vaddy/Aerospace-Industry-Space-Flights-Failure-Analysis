{
 "cells": [
  {
   "cell_type": "markdown",
   "metadata": {},
   "source": [
    "## SPACE FLIGHTS FAILURE ANALYSIS"
   ]
  },
  {
   "cell_type": "code",
   "execution_count": 184,
   "metadata": {
    "_cell_guid": "b1076dfc-b9ad-4769-8c92-a6c4dae69d19",
    "_uuid": "8f2839f25d086af736a60e9eeb907d3b93b6e0e5"
   },
   "outputs": [],
   "source": [
    "import numpy as np\n",
    "import pandas as pd\n",
    "import seaborn as sns\n",
    "import matplotlib.pyplot as plt\n",
    "from sklearn.impute import SimpleImputer\n",
    "import os\n"
   ]
  },
  {
   "cell_type": "code",
   "execution_count": 185,
   "metadata": {
    "_cell_guid": "79c7e3d0-c299-4dcb-8224-4455121ee9b0",
    "_uuid": "d629ff2d2480ee46fbb7e2d37f6b5fab8052498a"
   },
   "outputs": [
    {
     "data": {
      "text/html": [
       "<div>\n",
       "<style scoped>\n",
       "    .dataframe tbody tr th:only-of-type {\n",
       "        vertical-align: middle;\n",
       "    }\n",
       "\n",
       "    .dataframe tbody tr th {\n",
       "        vertical-align: top;\n",
       "    }\n",
       "\n",
       "    .dataframe thead th {\n",
       "        text-align: right;\n",
       "    }\n",
       "</style>\n",
       "<table border=\"1\" class=\"dataframe\">\n",
       "  <thead>\n",
       "    <tr style=\"text-align: right;\">\n",
       "      <th></th>\n",
       "      <th>Company</th>\n",
       "      <th>Launch Date</th>\n",
       "      <th>Launch Time</th>\n",
       "      <th>Launch Site</th>\n",
       "      <th>Temperature (° F)</th>\n",
       "      <th>Wind speed (MPH)</th>\n",
       "      <th>Humidity (%)</th>\n",
       "      <th>Vehicle Type</th>\n",
       "      <th>Liftoff Thrust (kN)</th>\n",
       "      <th>Payload to Orbit (kg)</th>\n",
       "      <th>Rocket Height (m)</th>\n",
       "      <th>Fairing Diameter (m)</th>\n",
       "      <th>Payload Name</th>\n",
       "      <th>Payload Type</th>\n",
       "      <th>Payload Mass (kg)</th>\n",
       "      <th>Payload Orbit</th>\n",
       "      <th>Mission Status</th>\n",
       "      <th>Failure Reason</th>\n",
       "    </tr>\n",
       "  </thead>\n",
       "  <tbody>\n",
       "    <tr>\n",
       "      <th>0</th>\n",
       "      <td>SpaceX</td>\n",
       "      <td>24 March 2006</td>\n",
       "      <td>22:30</td>\n",
       "      <td>Marshall Islands</td>\n",
       "      <td>86.0</td>\n",
       "      <td>9.0</td>\n",
       "      <td>74.0</td>\n",
       "      <td>Falcon 1</td>\n",
       "      <td>343</td>\n",
       "      <td>470</td>\n",
       "      <td>22.25</td>\n",
       "      <td>1.5</td>\n",
       "      <td>FalconSAT-2</td>\n",
       "      <td>Research Satellite</td>\n",
       "      <td>19.5</td>\n",
       "      <td>Low Earth Orbit</td>\n",
       "      <td>Failure</td>\n",
       "      <td>Engine Fire During Launch</td>\n",
       "    </tr>\n",
       "    <tr>\n",
       "      <th>1</th>\n",
       "      <td>SpaceX</td>\n",
       "      <td>21 March 2007</td>\n",
       "      <td>1:10</td>\n",
       "      <td>Marshall Islands</td>\n",
       "      <td>NaN</td>\n",
       "      <td>NaN</td>\n",
       "      <td>NaN</td>\n",
       "      <td>Falcon 1</td>\n",
       "      <td>343</td>\n",
       "      <td>470</td>\n",
       "      <td>22.25</td>\n",
       "      <td>1.5</td>\n",
       "      <td>DemoSat</td>\n",
       "      <td>Mass simulator</td>\n",
       "      <td>NaN</td>\n",
       "      <td>Low Earth Orbit</td>\n",
       "      <td>Failure</td>\n",
       "      <td>Engine Shutdown During Launch</td>\n",
       "    </tr>\n",
       "    <tr>\n",
       "      <th>2</th>\n",
       "      <td>SpaceX</td>\n",
       "      <td>3 August 2008</td>\n",
       "      <td>3:34</td>\n",
       "      <td>Marshall Islands</td>\n",
       "      <td>NaN</td>\n",
       "      <td>NaN</td>\n",
       "      <td>NaN</td>\n",
       "      <td>Falcon 1</td>\n",
       "      <td>343</td>\n",
       "      <td>470</td>\n",
       "      <td>22.25</td>\n",
       "      <td>1.5</td>\n",
       "      <td>Trailblazer</td>\n",
       "      <td>Communication Satellite</td>\n",
       "      <td>NaN</td>\n",
       "      <td>Low Earth Orbit</td>\n",
       "      <td>Failure</td>\n",
       "      <td>Collision During Launch</td>\n",
       "    </tr>\n",
       "    <tr>\n",
       "      <th>3</th>\n",
       "      <td>SpaceX</td>\n",
       "      <td>3 August 2008</td>\n",
       "      <td>3:34</td>\n",
       "      <td>Marshall Islands</td>\n",
       "      <td>NaN</td>\n",
       "      <td>NaN</td>\n",
       "      <td>NaN</td>\n",
       "      <td>Falcon 1</td>\n",
       "      <td>343</td>\n",
       "      <td>470</td>\n",
       "      <td>22.25</td>\n",
       "      <td>1.5</td>\n",
       "      <td>PRESat, NanoSail-D</td>\n",
       "      <td>Research Satellites</td>\n",
       "      <td>8</td>\n",
       "      <td>Low Earth Orbit</td>\n",
       "      <td>Failure</td>\n",
       "      <td>Collision During Launch</td>\n",
       "    </tr>\n",
       "    <tr>\n",
       "      <th>4</th>\n",
       "      <td>SpaceX</td>\n",
       "      <td>3 August 2008</td>\n",
       "      <td>3:34</td>\n",
       "      <td>Marshall Islands</td>\n",
       "      <td>NaN</td>\n",
       "      <td>NaN</td>\n",
       "      <td>NaN</td>\n",
       "      <td>Falcon 1</td>\n",
       "      <td>343</td>\n",
       "      <td>470</td>\n",
       "      <td>22.25</td>\n",
       "      <td>1.5</td>\n",
       "      <td>Explorers</td>\n",
       "      <td>Human Remains</td>\n",
       "      <td>NaN</td>\n",
       "      <td>Low Earth Orbit</td>\n",
       "      <td>Failure</td>\n",
       "      <td>Collision During Launch</td>\n",
       "    </tr>\n",
       "    <tr>\n",
       "      <th>5</th>\n",
       "      <td>SpaceX</td>\n",
       "      <td>8 October 2012</td>\n",
       "      <td>0:35</td>\n",
       "      <td>Cape Canaveral</td>\n",
       "      <td>77.0</td>\n",
       "      <td>5.0</td>\n",
       "      <td>100.0</td>\n",
       "      <td>Falcon 9 (v1.0)</td>\n",
       "      <td>4940</td>\n",
       "      <td>10450</td>\n",
       "      <td>54.90</td>\n",
       "      <td>5.2</td>\n",
       "      <td>Orbcomm-OG2</td>\n",
       "      <td>Communication Satellite</td>\n",
       "      <td>150</td>\n",
       "      <td>Low Earth Orbit</td>\n",
       "      <td>Failure</td>\n",
       "      <td>Engine Failure During Flight</td>\n",
       "    </tr>\n",
       "    <tr>\n",
       "      <th>6</th>\n",
       "      <td>SpaceX</td>\n",
       "      <td>28 June 2015</td>\n",
       "      <td>14:21</td>\n",
       "      <td>Cape Canaveral</td>\n",
       "      <td>93.0</td>\n",
       "      <td>10.0</td>\n",
       "      <td>42.0</td>\n",
       "      <td>Falcon 9 (v1.1)</td>\n",
       "      <td>5885</td>\n",
       "      <td>13150</td>\n",
       "      <td>68.40</td>\n",
       "      <td>5.2</td>\n",
       "      <td>SpaceX CRS-7</td>\n",
       "      <td>Space Station Supplies</td>\n",
       "      <td>1952</td>\n",
       "      <td>Low Earth Orbit</td>\n",
       "      <td>Failure</td>\n",
       "      <td>Vehicle Explosion During Flight</td>\n",
       "    </tr>\n",
       "    <tr>\n",
       "      <th>7</th>\n",
       "      <td>SpaceX</td>\n",
       "      <td>1 September 2016</td>\n",
       "      <td>13:07</td>\n",
       "      <td>Cape Canaveral</td>\n",
       "      <td>87.0</td>\n",
       "      <td>15.0</td>\n",
       "      <td>80.0</td>\n",
       "      <td>Falcon 9 Full Thrust (v1.2)</td>\n",
       "      <td>6804</td>\n",
       "      <td>8300</td>\n",
       "      <td>70.00</td>\n",
       "      <td>5.2</td>\n",
       "      <td>Amos-6</td>\n",
       "      <td>Communication Satellite</td>\n",
       "      <td>5500</td>\n",
       "      <td>Geostationary Transfer Orbit</td>\n",
       "      <td>Failure</td>\n",
       "      <td>Vehicle Explosion Before Launch</td>\n",
       "    </tr>\n",
       "    <tr>\n",
       "      <th>8</th>\n",
       "      <td>Boeing</td>\n",
       "      <td>5 September 1995</td>\n",
       "      <td>11:10</td>\n",
       "      <td>Cape Canaveral</td>\n",
       "      <td>84.0</td>\n",
       "      <td>10.0</td>\n",
       "      <td>60.0</td>\n",
       "      <td>Delta II 7925</td>\n",
       "      <td>3511</td>\n",
       "      <td>1819</td>\n",
       "      <td>38.10</td>\n",
       "      <td>2.9</td>\n",
       "      <td>Koreasat 1</td>\n",
       "      <td>Communication Satellite</td>\n",
       "      <td>711</td>\n",
       "      <td>Geostationary Transfer Orbit</td>\n",
       "      <td>Failure</td>\n",
       "      <td>One SRB failed to separate, retarding the boos...</td>\n",
       "    </tr>\n",
       "    <tr>\n",
       "      <th>9</th>\n",
       "      <td>Boeing</td>\n",
       "      <td>17 January 1997</td>\n",
       "      <td>16:28</td>\n",
       "      <td>Cape Canaveral</td>\n",
       "      <td>50.0</td>\n",
       "      <td>12.0</td>\n",
       "      <td>62.0</td>\n",
       "      <td>Delta II 7925</td>\n",
       "      <td>3511</td>\n",
       "      <td>1819</td>\n",
       "      <td>38.10</td>\n",
       "      <td>2.9</td>\n",
       "      <td>GPS IIR-1</td>\n",
       "      <td>Global Positioning System</td>\n",
       "      <td>2030</td>\n",
       "      <td>Medium Earth Orbit</td>\n",
       "      <td>Failure</td>\n",
       "      <td>Exploded 13 seconds after launch due to SRB fa...</td>\n",
       "    </tr>\n",
       "  </tbody>\n",
       "</table>\n",
       "</div>"
      ],
      "text/plain": [
       "  Company       Launch Date Launch Time       Launch Site  Temperature (° F)  \\\n",
       "0  SpaceX     24 March 2006       22:30  Marshall Islands               86.0   \n",
       "1  SpaceX     21 March 2007        1:10  Marshall Islands                NaN   \n",
       "2  SpaceX     3 August 2008        3:34  Marshall Islands                NaN   \n",
       "3  SpaceX     3 August 2008        3:34  Marshall Islands                NaN   \n",
       "4  SpaceX     3 August 2008        3:34  Marshall Islands                NaN   \n",
       "5  SpaceX    8 October 2012        0:35    Cape Canaveral               77.0   \n",
       "6  SpaceX      28 June 2015       14:21    Cape Canaveral               93.0   \n",
       "7  SpaceX  1 September 2016       13:07    Cape Canaveral               87.0   \n",
       "8  Boeing  5 September 1995       11:10    Cape Canaveral               84.0   \n",
       "9  Boeing   17 January 1997       16:28    Cape Canaveral               50.0   \n",
       "\n",
       "   Wind speed (MPH)  Humidity (%)                 Vehicle Type  \\\n",
       "0               9.0          74.0                     Falcon 1   \n",
       "1               NaN           NaN                     Falcon 1   \n",
       "2               NaN           NaN                     Falcon 1   \n",
       "3               NaN           NaN                     Falcon 1   \n",
       "4               NaN           NaN                     Falcon 1   \n",
       "5               5.0         100.0              Falcon 9 (v1.0)   \n",
       "6              10.0          42.0              Falcon 9 (v1.1)   \n",
       "7              15.0          80.0  Falcon 9 Full Thrust (v1.2)   \n",
       "8              10.0          60.0                Delta II 7925   \n",
       "9              12.0          62.0                Delta II 7925   \n",
       "\n",
       "   Liftoff Thrust (kN)  Payload to Orbit (kg)  Rocket Height (m)  \\\n",
       "0                  343                    470              22.25   \n",
       "1                  343                    470              22.25   \n",
       "2                  343                    470              22.25   \n",
       "3                  343                    470              22.25   \n",
       "4                  343                    470              22.25   \n",
       "5                 4940                  10450              54.90   \n",
       "6                 5885                  13150              68.40   \n",
       "7                 6804                   8300              70.00   \n",
       "8                 3511                   1819              38.10   \n",
       "9                 3511                   1819              38.10   \n",
       "\n",
       "   Fairing Diameter (m)        Payload Name               Payload Type  \\\n",
       "0                   1.5         FalconSAT-2         Research Satellite   \n",
       "1                   1.5             DemoSat             Mass simulator   \n",
       "2                   1.5         Trailblazer    Communication Satellite   \n",
       "3                   1.5  PRESat, NanoSail-D        Research Satellites   \n",
       "4                   1.5           Explorers              Human Remains   \n",
       "5                   5.2         Orbcomm-OG2    Communication Satellite   \n",
       "6                   5.2        SpaceX CRS-7     Space Station Supplies   \n",
       "7                   5.2              Amos-6    Communication Satellite   \n",
       "8                   2.9          Koreasat 1    Communication Satellite   \n",
       "9                   2.9           GPS IIR-1  Global Positioning System   \n",
       "\n",
       "  Payload Mass (kg)                 Payload Orbit Mission Status  \\\n",
       "0              19.5               Low Earth Orbit        Failure   \n",
       "1               NaN               Low Earth Orbit        Failure   \n",
       "2               NaN               Low Earth Orbit        Failure   \n",
       "3                 8               Low Earth Orbit        Failure   \n",
       "4               NaN               Low Earth Orbit        Failure   \n",
       "5               150               Low Earth Orbit        Failure   \n",
       "6              1952               Low Earth Orbit        Failure   \n",
       "7              5500  Geostationary Transfer Orbit        Failure   \n",
       "8               711  Geostationary Transfer Orbit        Failure   \n",
       "9              2030            Medium Earth Orbit        Failure   \n",
       "\n",
       "                                      Failure Reason  \n",
       "0                          Engine Fire During Launch  \n",
       "1                      Engine Shutdown During Launch  \n",
       "2                            Collision During Launch  \n",
       "3                            Collision During Launch  \n",
       "4                            Collision During Launch  \n",
       "5                       Engine Failure During Flight  \n",
       "6                    Vehicle Explosion During Flight  \n",
       "7                    Vehicle Explosion Before Launch  \n",
       "8  One SRB failed to separate, retarding the boos...  \n",
       "9  Exploded 13 seconds after launch due to SRB fa...  "
      ]
     },
     "execution_count": 185,
     "metadata": {},
     "output_type": "execute_result"
    }
   ],
   "source": [
    "data = pd.read_csv('SpaceMissions.csv')\n",
    "data.head(10)"
   ]
  },
  {
   "cell_type": "code",
   "execution_count": 132,
   "metadata": {},
   "outputs": [
    {
     "data": {
      "text/html": [
       "<div>\n",
       "<style scoped>\n",
       "    .dataframe tbody tr th:only-of-type {\n",
       "        vertical-align: middle;\n",
       "    }\n",
       "\n",
       "    .dataframe tbody tr th {\n",
       "        vertical-align: top;\n",
       "    }\n",
       "\n",
       "    .dataframe thead th {\n",
       "        text-align: right;\n",
       "    }\n",
       "</style>\n",
       "<table border=\"1\" class=\"dataframe\">\n",
       "  <thead>\n",
       "    <tr style=\"text-align: right;\">\n",
       "      <th></th>\n",
       "      <th>Temperature (° F)</th>\n",
       "      <th>Wind speed (MPH)</th>\n",
       "      <th>Humidity (%)</th>\n",
       "      <th>Liftoff Thrust (kN)</th>\n",
       "      <th>Payload to Orbit (kg)</th>\n",
       "      <th>Rocket Height (m)</th>\n",
       "      <th>Fairing Diameter (m)</th>\n",
       "    </tr>\n",
       "  </thead>\n",
       "  <tbody>\n",
       "    <tr>\n",
       "      <th>count</th>\n",
       "      <td>136.000000</td>\n",
       "      <td>136.000000</td>\n",
       "      <td>136.000000</td>\n",
       "      <td>150.000000</td>\n",
       "      <td>150.000000</td>\n",
       "      <td>150.000000</td>\n",
       "      <td>146.000000</td>\n",
       "    </tr>\n",
       "    <tr>\n",
       "      <th>mean</th>\n",
       "      <td>70.441176</td>\n",
       "      <td>8.007353</td>\n",
       "      <td>76.066176</td>\n",
       "      <td>5668.360000</td>\n",
       "      <td>10708.913333</td>\n",
       "      <td>56.337133</td>\n",
       "      <td>4.252329</td>\n",
       "    </tr>\n",
       "    <tr>\n",
       "      <th>std</th>\n",
       "      <td>12.700986</td>\n",
       "      <td>4.968786</td>\n",
       "      <td>15.708079</td>\n",
       "      <td>3619.496024</td>\n",
       "      <td>9502.621246</td>\n",
       "      <td>16.577740</td>\n",
       "      <td>1.308869</td>\n",
       "    </tr>\n",
       "    <tr>\n",
       "      <th>min</th>\n",
       "      <td>37.000000</td>\n",
       "      <td>0.000000</td>\n",
       "      <td>37.000000</td>\n",
       "      <td>343.000000</td>\n",
       "      <td>380.000000</td>\n",
       "      <td>19.000000</td>\n",
       "      <td>1.000000</td>\n",
       "    </tr>\n",
       "    <tr>\n",
       "      <th>25%</th>\n",
       "      <td>60.750000</td>\n",
       "      <td>5.000000</td>\n",
       "      <td>65.000000</td>\n",
       "      <td>3511.000000</td>\n",
       "      <td>3099.000000</td>\n",
       "      <td>38.900000</td>\n",
       "      <td>3.000000</td>\n",
       "    </tr>\n",
       "    <tr>\n",
       "      <th>50%</th>\n",
       "      <td>73.000000</td>\n",
       "      <td>8.000000</td>\n",
       "      <td>78.000000</td>\n",
       "      <td>5885.000000</td>\n",
       "      <td>8300.000000</td>\n",
       "      <td>68.400000</td>\n",
       "      <td>5.200000</td>\n",
       "    </tr>\n",
       "    <tr>\n",
       "      <th>75%</th>\n",
       "      <td>80.000000</td>\n",
       "      <td>12.000000</td>\n",
       "      <td>89.000000</td>\n",
       "      <td>6804.000000</td>\n",
       "      <td>22800.000000</td>\n",
       "      <td>70.000000</td>\n",
       "      <td>5.200000</td>\n",
       "    </tr>\n",
       "    <tr>\n",
       "      <th>max</th>\n",
       "      <td>93.000000</td>\n",
       "      <td>23.000000</td>\n",
       "      <td>100.000000</td>\n",
       "      <td>22819.000000</td>\n",
       "      <td>63800.000000</td>\n",
       "      <td>72.000000</td>\n",
       "      <td>5.400000</td>\n",
       "    </tr>\n",
       "  </tbody>\n",
       "</table>\n",
       "</div>"
      ],
      "text/plain": [
       "       Temperature (° F)  Wind speed (MPH)  Humidity (%)  Liftoff Thrust (kN)  \\\n",
       "count         136.000000        136.000000    136.000000           150.000000   \n",
       "mean           70.441176          8.007353     76.066176          5668.360000   \n",
       "std            12.700986          4.968786     15.708079          3619.496024   \n",
       "min            37.000000          0.000000     37.000000           343.000000   \n",
       "25%            60.750000          5.000000     65.000000          3511.000000   \n",
       "50%            73.000000          8.000000     78.000000          5885.000000   \n",
       "75%            80.000000         12.000000     89.000000          6804.000000   \n",
       "max            93.000000         23.000000    100.000000         22819.000000   \n",
       "\n",
       "       Payload to Orbit (kg)  Rocket Height (m)  Fairing Diameter (m)  \n",
       "count             150.000000         150.000000            146.000000  \n",
       "mean            10708.913333          56.337133              4.252329  \n",
       "std              9502.621246          16.577740              1.308869  \n",
       "min               380.000000          19.000000              1.000000  \n",
       "25%              3099.000000          38.900000              3.000000  \n",
       "50%              8300.000000          68.400000              5.200000  \n",
       "75%             22800.000000          70.000000              5.200000  \n",
       "max             63800.000000          72.000000              5.400000  "
      ]
     },
     "execution_count": 132,
     "metadata": {},
     "output_type": "execute_result"
    }
   ],
   "source": [
    "data.describe()"
   ]
  },
  {
   "cell_type": "code",
   "execution_count": 133,
   "metadata": {},
   "outputs": [
    {
     "data": {
      "text/plain": [
       "(150, 18)"
      ]
     },
     "execution_count": 133,
     "metadata": {},
     "output_type": "execute_result"
    }
   ],
   "source": [
    "data.shape"
   ]
  },
  {
   "cell_type": "markdown",
   "metadata": {},
   "source": [
    "## Null Values"
   ]
  },
  {
   "cell_type": "code",
   "execution_count": 134,
   "metadata": {},
   "outputs": [
    {
     "data": {
      "text/plain": [
       "Company                    0\n",
       "Launch Date                0\n",
       "Launch Time                4\n",
       "Launch Site                0\n",
       "Temperature (° F)         14\n",
       "Wind speed (MPH)          14\n",
       "Humidity (%)              14\n",
       "Vehicle Type               0\n",
       "Liftoff Thrust (kN)        0\n",
       "Payload to Orbit (kg)      0\n",
       "Rocket Height (m)          0\n",
       "Fairing Diameter (m)       4\n",
       "Payload Name               0\n",
       "Payload Type               2\n",
       "Payload Mass (kg)         17\n",
       "Payload Orbit              0\n",
       "Mission Status             0\n",
       "Failure Reason           121\n",
       "dtype: int64"
      ]
     },
     "execution_count": 134,
     "metadata": {},
     "output_type": "execute_result"
    }
   ],
   "source": [
    "#count the null values in each column\n",
    "data.isnull().sum()"
   ]
  },
  {
   "cell_type": "markdown",
   "metadata": {},
   "source": [
    "there are 14 missing values in Temperature, Wind Speed and Humidity. 17 missing values in Payload Mass and 121 missing failure reasons. "
   ]
  },
  {
   "cell_type": "code",
   "execution_count": 186,
   "metadata": {},
   "outputs": [
    {
     "data": {
      "text/plain": [
       "Company                    0\n",
       "Launch Date                0\n",
       "Launch Time                4\n",
       "Launch Site                0\n",
       "Temperature (° F)          0\n",
       "Wind speed (MPH)           0\n",
       "Humidity (%)               0\n",
       "Vehicle Type               0\n",
       "Liftoff Thrust (kN)        0\n",
       "Payload to Orbit (kg)      0\n",
       "Rocket Height (m)          0\n",
       "Fairing Diameter (m)       4\n",
       "Payload Name               0\n",
       "Payload Type               2\n",
       "Payload Mass (kg)         17\n",
       "Payload Orbit              0\n",
       "Mission Status             0\n",
       "Failure Reason           121\n",
       "dtype: int64"
      ]
     },
     "execution_count": 186,
     "metadata": {},
     "output_type": "execute_result"
    }
   ],
   "source": [
    "#handling null temperature values\n",
    "#x stores the temperate column values as an array\n",
    "x = data.iloc[:, 4].values\n",
    "x = x.reshape(-1,1)\n",
    "#creating a SimpleImputer object that will replace all NA values with the mean value after fitting to the X array\n",
    "imputer = SimpleImputer(missing_values=np.nan, strategy='mean')\n",
    "imputer = imputer.fit(x)\n",
    "#replacing null values in X with mean value of temperature column\n",
    "x = imputer.transform(x)\n",
    "data.iloc[:, 4] = x\n",
    "data.isnull().sum()\n",
    "\n",
    "#handling null humidity values\n",
    "#x stores the humidity column values as an array\n",
    "x = data.iloc[:, 6].values\n",
    "x = x.reshape(-1,1)\n",
    "#creating a SimpleImputer object that will replace all NA values with the mean value after fitting to the X array\n",
    "imputer = SimpleImputer(missing_values=np.nan, strategy='mean')\n",
    "imputer = imputer.fit(x)\n",
    "#replacing null values in X with mean value of temperature column\n",
    "x = imputer.transform(x)\n",
    "data.iloc[:, 6] = x\n",
    "data.isnull().sum()\n",
    "\n",
    "#handling null wind speed values\n",
    "#x stores the speed column values as an array\n",
    "x = data.iloc[:, 5].values\n",
    "x = x.reshape(-1,1)\n",
    "#creating a SimpleImputer object that will replace all NA values with the mean value after fitting to the X array\n",
    "imputer = SimpleImputer(missing_values=np.nan, strategy='mean')\n",
    "imputer = imputer.fit(x)\n",
    "#replacing null values in X with mean value of temperature column\n",
    "x = imputer.transform(x)\n",
    "data.iloc[:, 5] = x\n",
    "data.isnull().sum()"
   ]
  },
  {
   "cell_type": "code",
   "execution_count": 187,
   "metadata": {},
   "outputs": [
    {
     "data": {
      "text/html": [
       "<div>\n",
       "<style scoped>\n",
       "    .dataframe tbody tr th:only-of-type {\n",
       "        vertical-align: middle;\n",
       "    }\n",
       "\n",
       "    .dataframe tbody tr th {\n",
       "        vertical-align: top;\n",
       "    }\n",
       "\n",
       "    .dataframe thead th {\n",
       "        text-align: right;\n",
       "    }\n",
       "</style>\n",
       "<table border=\"1\" class=\"dataframe\">\n",
       "  <thead>\n",
       "    <tr style=\"text-align: right;\">\n",
       "      <th></th>\n",
       "      <th>Company</th>\n",
       "      <th>Launch Date</th>\n",
       "      <th>Launch Time</th>\n",
       "      <th>Launch Site</th>\n",
       "      <th>Temperature (° F)</th>\n",
       "      <th>Wind speed (MPH)</th>\n",
       "      <th>Humidity (%)</th>\n",
       "      <th>Vehicle Type</th>\n",
       "      <th>Liftoff Thrust (kN)</th>\n",
       "      <th>Payload to Orbit (kg)</th>\n",
       "      <th>Rocket Height (m)</th>\n",
       "      <th>Fairing Diameter (m)</th>\n",
       "      <th>Payload Name</th>\n",
       "      <th>Payload Type</th>\n",
       "      <th>Payload Mass (kg)</th>\n",
       "      <th>Payload Orbit</th>\n",
       "      <th>Mission Status</th>\n",
       "      <th>Failure Reason</th>\n",
       "    </tr>\n",
       "  </thead>\n",
       "  <tbody>\n",
       "    <tr>\n",
       "      <th>21</th>\n",
       "      <td>European Space Agency</td>\n",
       "      <td>23 May 1980</td>\n",
       "      <td>14:29</td>\n",
       "      <td>Guiana Space Centre</td>\n",
       "      <td>70.441176</td>\n",
       "      <td>8.007353</td>\n",
       "      <td>76.066176</td>\n",
       "      <td>Ariane 1</td>\n",
       "      <td>2772</td>\n",
       "      <td>1850</td>\n",
       "      <td>50.00</td>\n",
       "      <td>NaN</td>\n",
       "      <td>CAT-2 / Amsat P3A / Firewheel Subsat</td>\n",
       "      <td>Communication Satellite</td>\n",
       "      <td>NaN</td>\n",
       "      <td>Geostationary Transfer Orbit</td>\n",
       "      <td>Failure</td>\n",
       "      <td>Combustion instability that had occurred in on...</td>\n",
       "    </tr>\n",
       "    <tr>\n",
       "      <th>22</th>\n",
       "      <td>European Space Agency</td>\n",
       "      <td>9 September 1982</td>\n",
       "      <td>2:12</td>\n",
       "      <td>Guiana Space Centre</td>\n",
       "      <td>70.441176</td>\n",
       "      <td>8.007353</td>\n",
       "      <td>76.066176</td>\n",
       "      <td>Ariane 1</td>\n",
       "      <td>2772</td>\n",
       "      <td>1850</td>\n",
       "      <td>50.00</td>\n",
       "      <td>NaN</td>\n",
       "      <td>MARCES-B / Sirio-2</td>\n",
       "      <td>Communication Satellite</td>\n",
       "      <td>1710</td>\n",
       "      <td>Geostationary Transfer Orbit</td>\n",
       "      <td>Failure</td>\n",
       "      <td>Third stage turbopump malfunction.</td>\n",
       "    </tr>\n",
       "    <tr>\n",
       "      <th>28</th>\n",
       "      <td>Arianespace</td>\n",
       "      <td>4 June 1996</td>\n",
       "      <td>12:34</td>\n",
       "      <td>Guiana Space Centre</td>\n",
       "      <td>70.441176</td>\n",
       "      <td>8.007353</td>\n",
       "      <td>76.066176</td>\n",
       "      <td>Ariane 5 G</td>\n",
       "      <td>11400</td>\n",
       "      <td>6900</td>\n",
       "      <td>52.00</td>\n",
       "      <td>NaN</td>\n",
       "      <td>Cluster</td>\n",
       "      <td>European Space Agency spacecraft</td>\n",
       "      <td>NaN</td>\n",
       "      <td>High Earth Orbit</td>\n",
       "      <td>Failure</td>\n",
       "      <td>The Ariane 5 program's first launch failed bec...</td>\n",
       "    </tr>\n",
       "    <tr>\n",
       "      <th>29</th>\n",
       "      <td>Arianespace</td>\n",
       "      <td>1 December 1994</td>\n",
       "      <td>22:57</td>\n",
       "      <td>Guiana Space Centre</td>\n",
       "      <td>70.441176</td>\n",
       "      <td>8.007353</td>\n",
       "      <td>76.066176</td>\n",
       "      <td>Ariane 42P</td>\n",
       "      <td>4334</td>\n",
       "      <td>2930</td>\n",
       "      <td>58.72</td>\n",
       "      <td>NaN</td>\n",
       "      <td>Panamsat-3</td>\n",
       "      <td>Communication Satellite</td>\n",
       "      <td>2920</td>\n",
       "      <td>Geostationary Transfer Orbit</td>\n",
       "      <td>Failure</td>\n",
       "      <td>NaN</td>\n",
       "    </tr>\n",
       "  </tbody>\n",
       "</table>\n",
       "</div>"
      ],
      "text/plain": [
       "                  Company       Launch Date Launch Time           Launch Site  \\\n",
       "21  European Space Agency       23 May 1980       14:29   Guiana Space Centre   \n",
       "22  European Space Agency  9 September 1982        2:12   Guiana Space Centre   \n",
       "28            Arianespace       4 June 1996       12:34   Guiana Space Centre   \n",
       "29            Arianespace   1 December 1994       22:57   Guiana Space Centre   \n",
       "\n",
       "    Temperature (° F)  Wind speed (MPH)  Humidity (%) Vehicle Type  \\\n",
       "21          70.441176          8.007353     76.066176     Ariane 1   \n",
       "22          70.441176          8.007353     76.066176     Ariane 1   \n",
       "28          70.441176          8.007353     76.066176   Ariane 5 G   \n",
       "29          70.441176          8.007353     76.066176   Ariane 42P   \n",
       "\n",
       "    Liftoff Thrust (kN)  Payload to Orbit (kg)  Rocket Height (m)  \\\n",
       "21                 2772                   1850              50.00   \n",
       "22                 2772                   1850              50.00   \n",
       "28                11400                   6900              52.00   \n",
       "29                 4334                   2930              58.72   \n",
       "\n",
       "    Fairing Diameter (m)                          Payload Name  \\\n",
       "21                   NaN  CAT-2 / Amsat P3A / Firewheel Subsat   \n",
       "22                   NaN                    MARCES-B / Sirio-2   \n",
       "28                   NaN                               Cluster   \n",
       "29                   NaN                            Panamsat-3   \n",
       "\n",
       "                        Payload Type Payload Mass (kg)  \\\n",
       "21           Communication Satellite               NaN   \n",
       "22           Communication Satellite              1710   \n",
       "28  European Space Agency spacecraft               NaN   \n",
       "29           Communication Satellite              2920   \n",
       "\n",
       "                   Payload Orbit Mission Status  \\\n",
       "21  Geostationary Transfer Orbit        Failure   \n",
       "22  Geostationary Transfer Orbit        Failure   \n",
       "28              High Earth Orbit        Failure   \n",
       "29  Geostationary Transfer Orbit        Failure   \n",
       "\n",
       "                                       Failure Reason  \n",
       "21  Combustion instability that had occurred in on...  \n",
       "22                 Third stage turbopump malfunction.  \n",
       "28  The Ariane 5 program's first launch failed bec...  \n",
       "29                                                NaN  "
      ]
     },
     "execution_count": 187,
     "metadata": {},
     "output_type": "execute_result"
    }
   ],
   "source": [
    "#handling fairing diameter missing values\n",
    "data[data[\"Fairing Diameter (m)\"].isnull()]"
   ]
  },
  {
   "cell_type": "code",
   "execution_count": 188,
   "metadata": {},
   "outputs": [
    {
     "data": {
      "text/plain": [
       "Company                    0\n",
       "Launch Date                0\n",
       "Launch Time                4\n",
       "Launch Site                0\n",
       "Temperature (° F)          0\n",
       "Wind speed (MPH)           0\n",
       "Humidity (%)               0\n",
       "Vehicle Type               0\n",
       "Liftoff Thrust (kN)        0\n",
       "Payload to Orbit (kg)      0\n",
       "Rocket Height (m)          0\n",
       "Fairing Diameter (m)       0\n",
       "Payload Name               0\n",
       "Payload Type               2\n",
       "Payload Mass (kg)         17\n",
       "Payload Orbit              0\n",
       "Mission Status             0\n",
       "Failure Reason           121\n",
       "dtype: int64"
      ]
     },
     "execution_count": 188,
     "metadata": {},
     "output_type": "execute_result"
    }
   ],
   "source": [
    "fm = data[data['Company'] == 'Arianespace']\n",
    "list_1 = fm['Fairing Diameter (m)']\n",
    "\n",
    "from statistics import mean\n",
    "mean_fm = list_1.mean()\n",
    "\n",
    "for i,j in zip(data['Company'], data['Fairing Diameter (m)']):\n",
    "    if i == 'Arianespace'or i == 'European Space Agency':\n",
    "         data[\"Fairing Diameter (m)\"] = data[\"Fairing Diameter (m)\"].fillna(mean_fm)\n",
    "\n",
    "data.isnull().sum()\n",
    "\n",
    "\n",
    "\n"
   ]
  },
  {
   "cell_type": "code",
   "execution_count": 189,
   "metadata": {},
   "outputs": [
    {
     "data": {
      "text/plain": [
       "count                          94\n",
       "unique                         24\n",
       "top       Communication Satellite\n",
       "freq                           45\n",
       "Name: Payload Type, dtype: object"
      ]
     },
     "execution_count": 189,
     "metadata": {},
     "output_type": "execute_result"
    }
   ],
   "source": [
    "#handling Payload Type missing values\n",
    "data[data['Payload Type'].isnull()]\n",
    "#checking for the most frequent payload type in company spacex\n",
    "pay_load = data[data['Company'] == 'SpaceX']\n",
    "pay_load['Payload Type'].describe()"
   ]
  },
  {
   "cell_type": "code",
   "execution_count": 190,
   "metadata": {},
   "outputs": [
    {
     "data": {
      "text/plain": [
       "Company                    0\n",
       "Launch Date                0\n",
       "Launch Time                4\n",
       "Launch Site                0\n",
       "Temperature (° F)          0\n",
       "Wind speed (MPH)           0\n",
       "Humidity (%)               0\n",
       "Vehicle Type               0\n",
       "Liftoff Thrust (kN)        0\n",
       "Payload to Orbit (kg)      0\n",
       "Rocket Height (m)          0\n",
       "Fairing Diameter (m)       0\n",
       "Payload Name               0\n",
       "Payload Type               0\n",
       "Payload Mass (kg)         17\n",
       "Payload Orbit              0\n",
       "Mission Status             0\n",
       "Failure Reason           121\n",
       "dtype: int64"
      ]
     },
     "execution_count": 190,
     "metadata": {},
     "output_type": "execute_result"
    }
   ],
   "source": [
    "#replacing the null values with the most frequenct payload type for the SpaceX company\n",
    "data['Payload Type'] = data['Payload Type'].fillna('Communication Satellite')\n",
    "data.isnull().sum()"
   ]
  },
  {
   "cell_type": "code",
   "execution_count": 191,
   "metadata": {},
   "outputs": [
    {
     "data": {
      "text/plain": [
       "array(['19.5', nan, '8', '150', '1952', '5500', '711', '2030', '700',\n",
       "       '2750', '3000', '0', '1710', '115', '80', '74', '1197', '5480',\n",
       "       '2920', '165', '180', '500', '677', '3170', '3325', '2296', '4535',\n",
       "       '4428', '2216', '2395', '570', '4159', '1898', '4707', '553',\n",
       "       '5271', '3136', '4696', '3100', '3600', '2257', '4600', '9600',\n",
       "       '2490', '5600', '5300', 'Classified', '6070', '2708', '3669',\n",
       "       '6761', '3310', '475', '4990', '5200', '3500', '2205', '4230',\n",
       "       '1300', '2141', '6092', '2647', '362', '5960', '5400', '2700',\n",
       "       '7080', '5800', '7060', '2573', '3880', '5380', '6000', '2500',\n",
       "       '13620', '4200', '6500', '15600', '6956', '6350', '338', '290',\n",
       "       '305', '2450', '2200', '550', '1360', '2032', '210', '4348', '673',\n",
       "       '758', '1800', '835', '636', '1100', '660', '689', '3117', '328',\n",
       "       '970'], dtype=object)"
      ]
     },
     "execution_count": 191,
     "metadata": {},
     "output_type": "execute_result"
    }
   ],
   "source": [
    "data['Payload Mass (kg)'].unique()"
   ]
  },
  {
   "cell_type": "code",
   "execution_count": 192,
   "metadata": {},
   "outputs": [
    {
     "data": {
      "text/plain": [
       "array([1.950e+01,       nan, 8.000e+00, 1.500e+02, 1.952e+03, 5.500e+03,\n",
       "       7.110e+02, 2.030e+03, 7.000e+02, 2.750e+03, 3.000e+03, 0.000e+00,\n",
       "       1.710e+03, 1.150e+02, 8.000e+01, 7.400e+01, 1.197e+03, 5.480e+03,\n",
       "       2.920e+03, 1.650e+02, 1.800e+02, 5.000e+02, 6.770e+02, 3.170e+03,\n",
       "       3.325e+03, 2.296e+03, 4.535e+03, 4.428e+03, 2.216e+03, 2.395e+03,\n",
       "       5.700e+02, 4.159e+03, 1.898e+03, 4.707e+03, 5.530e+02, 5.271e+03,\n",
       "       3.136e+03, 4.696e+03, 3.100e+03, 3.600e+03, 2.257e+03, 4.600e+03,\n",
       "       9.600e+03, 2.490e+03, 5.600e+03, 5.300e+03, 6.070e+03, 2.708e+03,\n",
       "       3.669e+03, 6.761e+03, 3.310e+03, 4.750e+02, 4.990e+03, 5.200e+03,\n",
       "       3.500e+03, 2.205e+03, 4.230e+03, 1.300e+03, 2.141e+03, 6.092e+03,\n",
       "       2.647e+03, 3.620e+02, 5.960e+03, 5.400e+03, 2.700e+03, 7.080e+03,\n",
       "       5.800e+03, 7.060e+03, 2.573e+03, 3.880e+03, 5.380e+03, 6.000e+03,\n",
       "       2.500e+03, 1.362e+04, 4.200e+03, 6.500e+03, 1.560e+04, 6.956e+03,\n",
       "       6.350e+03, 3.380e+02, 2.900e+02, 3.050e+02, 2.450e+03, 2.200e+03,\n",
       "       5.500e+02, 1.360e+03, 2.032e+03, 2.100e+02, 4.348e+03, 6.730e+02,\n",
       "       7.580e+02, 1.800e+03, 8.350e+02, 6.360e+02, 1.100e+03, 6.600e+02,\n",
       "       6.890e+02, 3.117e+03, 3.280e+02, 9.700e+02])"
      ]
     },
     "execution_count": 192,
     "metadata": {},
     "output_type": "execute_result"
    }
   ],
   "source": [
    "#converting the textual classified row to numerical data and changing dtype to int\n",
    "data.loc[ data['Payload Mass (kg)'] == 'Classified', 'Payload Mass (kg)'] = 0\n",
    "data['Payload Mass (kg)'] = data['Payload Mass (kg)'].astype(float)\n",
    "data['Payload Mass (kg)'].unique()"
   ]
  },
  {
   "cell_type": "code",
   "execution_count": 193,
   "metadata": {},
   "outputs": [
    {
     "data": {
      "text/plain": [
       "Company                    0\n",
       "Launch Date                0\n",
       "Launch Time                4\n",
       "Launch Site                0\n",
       "Temperature (° F)          0\n",
       "Wind speed (MPH)           0\n",
       "Humidity (%)               0\n",
       "Vehicle Type               0\n",
       "Liftoff Thrust (kN)        0\n",
       "Payload to Orbit (kg)      0\n",
       "Rocket Height (m)          0\n",
       "Fairing Diameter (m)       0\n",
       "Payload Name               0\n",
       "Payload Type               0\n",
       "Payload Mass (kg)          0\n",
       "Payload Orbit              0\n",
       "Mission Status             0\n",
       "Failure Reason           121\n",
       "dtype: int64"
      ]
     },
     "execution_count": 193,
     "metadata": {},
     "output_type": "execute_result"
    }
   ],
   "source": [
    "#handling null values and changing dtype to int\n",
    "x = data.iloc[:, -4].values\n",
    "x = x.reshape(-1,1)\n",
    "imputer = SimpleImputer(missing_values=np.nan, strategy='mean')\n",
    "imputer = imputer.fit(x)\n",
    "x = imputer.transform(x)\n",
    "data.iloc[:, -4] = x\n",
    "\n",
    "data['Payload Mass (kg)'] = data['Payload Mass (kg)'].astype(int)\n",
    "data.isnull().sum()"
   ]
  },
  {
   "cell_type": "code",
   "execution_count": 194,
   "metadata": {},
   "outputs": [],
   "source": [
    "#handling the null launch time values\n",
    "x = data.iloc[:, 2].values\n",
    "x = x.reshape(-1,1)\n",
    "imputer = SimpleImputer(missing_values=np.nan, strategy='most_frequent')\n",
    "imputer = imputer.fit(x)\n",
    "x = imputer.transform(x)\n",
    "data.iloc[:, 2] = x"
   ]
  },
  {
   "cell_type": "code",
   "execution_count": 195,
   "metadata": {},
   "outputs": [],
   "source": [
    "#dropping failure reason column due to many missing values\n",
    "data = data.drop(['Failure Reason'], axis = 1)"
   ]
  },
  {
   "cell_type": "markdown",
   "metadata": {
    "tags": []
   },
   "source": [
    "## Categorical Data"
   ]
  },
  {
   "cell_type": "code",
   "execution_count": 196,
   "metadata": {},
   "outputs": [
    {
     "data": {
      "text/plain": [
       "array(['SpaceX', 'Boeing', 'Martin Marietta', 'US Air Force',\n",
       "       'European Space Agency', 'Brazilian Space Agency', 'Arianespace'],\n",
       "      dtype=object)"
      ]
     },
     "execution_count": 196,
     "metadata": {},
     "output_type": "execute_result"
    }
   ],
   "source": [
    "#Company\n",
    "data['Company'].unique()"
   ]
  },
  {
   "cell_type": "code",
   "execution_count": 197,
   "metadata": {},
   "outputs": [
    {
     "data": {
      "image/png": "[encoded data removed]",
      "text/plain": [
       "<Figure size 432x288 with 1 Axes>"
      ]
     },
     "metadata": {
      "needs_background": "light"
     },
     "output_type": "display_data"
    }
   ],
   "source": [
    "# Company\n",
    "ax=sns.lineplot(x='Company', y='Mission Status', data=data)\n",
    "ax.tick_params(axis='x', labelrotation = 90)"
   ]
  },
  {
   "cell_type": "code",
   "execution_count": 198,
   "metadata": {},
   "outputs": [],
   "source": [
    "data.loc[data['Company'] == 'SpaceX', 'Company'] = 0\n",
    "data.loc[data['Company'] == 'Boeing', 'Company'] = 1\n",
    "data.loc[data['Company'] == 'Martin Marietta', 'Company'] = 2\n",
    "data.loc[data['Company'] == 'US Air Force', 'Company'] = 3\n",
    "data.loc[data['Company'] == 'European Space Agency', 'Company'] = 4\n",
    "data.loc[data['Company'] == 'Brazilian Space Agency', 'Company'] = 5\n",
    "data.loc[data['Company'] == 'Arianespace', 'Company'] = 6"
   ]
  },
  {
   "cell_type": "code",
   "execution_count": 199,
   "metadata": {},
   "outputs": [
    {
     "data": {
      "image/png": "[encoded data removed]",
      "text/plain": [
       "<Figure size 432x288 with 1 Axes>"
      ]
     },
     "metadata": {
      "needs_background": "light"
     },
     "output_type": "display_data"
    }
   ],
   "source": [
    "#launch site\n",
    "ax =sns.lineplot(x='Launch Site', y='Mission Status', data=data)\n",
    "ax.tick_params(axis='x', labelrotation = 90)"
   ]
  },
  {
   "cell_type": "code",
   "execution_count": 200,
   "metadata": {},
   "outputs": [],
   "source": [
    "data.loc[data['Launch Site'] == 'Marshall Islands', 'Launch Site'] = 0\n",
    "data.loc[data['Launch Site'] == 'Cape Canaveral', 'Launch Site'] = 1\n",
    "data.loc[data['Launch Site'] == 'Vandenberg ', 'Launch Site'] = 2\n",
    "data.loc[data['Launch Site'] == ' Guiana Space Centre', 'Launch Site'] = 3\n",
    "data.loc[data['Launch Site'] == 'Alcântara Launch Center', 'Launch Site'] = 4\n",
    "data.loc[data['Launch Site'] == 'Kennedy Space Center', 'Launch Site'] = 5"
   ]
  },
  {
   "cell_type": "code",
   "execution_count": 201,
   "metadata": {},
   "outputs": [
    {
     "data": {
      "text/plain": [
       "array(['Falcon 1', 'Falcon 9 (v1.0)', 'Falcon 9 (v1.1)',\n",
       "       'Falcon 9 Full Thrust (v1.2)', 'Delta II 7925', 'Delta III 8930',\n",
       "       'Delta IV Heavy', 'Titan II(23)G', 'Titan IIIC', 'Titan III(24)B',\n",
       "       'Titan IIIB', 'Titan IIIA', 'Ariane 1', 'VLS-1', 'Vega',\n",
       "       'Ariane 5 ECA', 'Ariane 5 G', 'Ariane 42P', 'Falcon 9 Block 3',\n",
       "       'Falcon 9 Block 4', 'Falcon Heavy', 'Falcon 9 Block 5',\n",
       "       'Delta II 7920-10C', 'Delta II 7425', 'Delta II 7426',\n",
       "       'Delta II 7920-10', 'Delta II 7420-10C', 'Delta II 7320-10C',\n",
       "       'Delta II 7326', 'Delta II 7425-10C', 'Delta IV Medium+ (4,2)'],\n",
       "      dtype=object)"
      ]
     },
     "execution_count": 201,
     "metadata": {},
     "output_type": "execute_result"
    }
   ],
   "source": [
    "data = data.rename({'Vehicle Type': \"Vehicle_Type\"}, axis = 1)\n",
    "data['Vehicle_Type'].unique()"
   ]
  },
  {
   "cell_type": "code",
   "execution_count": 202,
   "metadata": {},
   "outputs": [
    {
     "data": {
      "text/html": [
       "<div>\n",
       "<style scoped>\n",
       "    .dataframe tbody tr th:only-of-type {\n",
       "        vertical-align: middle;\n",
       "    }\n",
       "\n",
       "    .dataframe tbody tr th {\n",
       "        vertical-align: top;\n",
       "    }\n",
       "\n",
       "    .dataframe thead th {\n",
       "        text-align: right;\n",
       "    }\n",
       "</style>\n",
       "<table border=\"1\" class=\"dataframe\">\n",
       "  <thead>\n",
       "    <tr style=\"text-align: right;\">\n",
       "      <th></th>\n",
       "      <th>Company</th>\n",
       "      <th>Launch Date</th>\n",
       "      <th>Launch Time</th>\n",
       "      <th>Launch Site</th>\n",
       "      <th>Temperature (° F)</th>\n",
       "      <th>Wind speed (MPH)</th>\n",
       "      <th>Humidity (%)</th>\n",
       "      <th>Liftoff Thrust (kN)</th>\n",
       "      <th>Payload to Orbit (kg)</th>\n",
       "      <th>Rocket Height (m)</th>\n",
       "      <th>Fairing Diameter (m)</th>\n",
       "      <th>Payload Name</th>\n",
       "      <th>Payload Type</th>\n",
       "      <th>Payload Mass (kg)</th>\n",
       "      <th>Payload Orbit</th>\n",
       "      <th>Mission Status</th>\n",
       "      <th>vehicle_type</th>\n",
       "    </tr>\n",
       "  </thead>\n",
       "  <tbody>\n",
       "    <tr>\n",
       "      <th>0</th>\n",
       "      <td>0</td>\n",
       "      <td>24 March 2006</td>\n",
       "      <td>22:30</td>\n",
       "      <td>0</td>\n",
       "      <td>86.000000</td>\n",
       "      <td>9.000000</td>\n",
       "      <td>74.000000</td>\n",
       "      <td>343</td>\n",
       "      <td>470</td>\n",
       "      <td>22.25</td>\n",
       "      <td>1.5</td>\n",
       "      <td>FalconSAT-2</td>\n",
       "      <td>Research Satellite</td>\n",
       "      <td>19</td>\n",
       "      <td>Low Earth Orbit</td>\n",
       "      <td>Failure</td>\n",
       "      <td>0</td>\n",
       "    </tr>\n",
       "    <tr>\n",
       "      <th>1</th>\n",
       "      <td>0</td>\n",
       "      <td>21 March 2007</td>\n",
       "      <td>1:10</td>\n",
       "      <td>0</td>\n",
       "      <td>70.441176</td>\n",
       "      <td>8.007353</td>\n",
       "      <td>76.066176</td>\n",
       "      <td>343</td>\n",
       "      <td>470</td>\n",
       "      <td>22.25</td>\n",
       "      <td>1.5</td>\n",
       "      <td>DemoSat</td>\n",
       "      <td>Mass simulator</td>\n",
       "      <td>3443</td>\n",
       "      <td>Low Earth Orbit</td>\n",
       "      <td>Failure</td>\n",
       "      <td>0</td>\n",
       "    </tr>\n",
       "    <tr>\n",
       "      <th>2</th>\n",
       "      <td>0</td>\n",
       "      <td>3 August 2008</td>\n",
       "      <td>3:34</td>\n",
       "      <td>0</td>\n",
       "      <td>70.441176</td>\n",
       "      <td>8.007353</td>\n",
       "      <td>76.066176</td>\n",
       "      <td>343</td>\n",
       "      <td>470</td>\n",
       "      <td>22.25</td>\n",
       "      <td>1.5</td>\n",
       "      <td>Trailblazer</td>\n",
       "      <td>Communication Satellite</td>\n",
       "      <td>3443</td>\n",
       "      <td>Low Earth Orbit</td>\n",
       "      <td>Failure</td>\n",
       "      <td>0</td>\n",
       "    </tr>\n",
       "    <tr>\n",
       "      <th>3</th>\n",
       "      <td>0</td>\n",
       "      <td>3 August 2008</td>\n",
       "      <td>3:34</td>\n",
       "      <td>0</td>\n",
       "      <td>70.441176</td>\n",
       "      <td>8.007353</td>\n",
       "      <td>76.066176</td>\n",
       "      <td>343</td>\n",
       "      <td>470</td>\n",
       "      <td>22.25</td>\n",
       "      <td>1.5</td>\n",
       "      <td>PRESat, NanoSail-D</td>\n",
       "      <td>Research Satellites</td>\n",
       "      <td>8</td>\n",
       "      <td>Low Earth Orbit</td>\n",
       "      <td>Failure</td>\n",
       "      <td>0</td>\n",
       "    </tr>\n",
       "    <tr>\n",
       "      <th>4</th>\n",
       "      <td>0</td>\n",
       "      <td>3 August 2008</td>\n",
       "      <td>3:34</td>\n",
       "      <td>0</td>\n",
       "      <td>70.441176</td>\n",
       "      <td>8.007353</td>\n",
       "      <td>76.066176</td>\n",
       "      <td>343</td>\n",
       "      <td>470</td>\n",
       "      <td>22.25</td>\n",
       "      <td>1.5</td>\n",
       "      <td>Explorers</td>\n",
       "      <td>Human Remains</td>\n",
       "      <td>3443</td>\n",
       "      <td>Low Earth Orbit</td>\n",
       "      <td>Failure</td>\n",
       "      <td>0</td>\n",
       "    </tr>\n",
       "  </tbody>\n",
       "</table>\n",
       "</div>"
      ],
      "text/plain": [
       "  Company    Launch Date Launch Time Launch Site  Temperature (° F)  \\\n",
       "0       0  24 March 2006       22:30           0          86.000000   \n",
       "1       0  21 March 2007        1:10           0          70.441176   \n",
       "2       0  3 August 2008        3:34           0          70.441176   \n",
       "3       0  3 August 2008        3:34           0          70.441176   \n",
       "4       0  3 August 2008        3:34           0          70.441176   \n",
       "\n",
       "   Wind speed (MPH)  Humidity (%)  Liftoff Thrust (kN)  Payload to Orbit (kg)  \\\n",
       "0          9.000000     74.000000                  343                    470   \n",
       "1          8.007353     76.066176                  343                    470   \n",
       "2          8.007353     76.066176                  343                    470   \n",
       "3          8.007353     76.066176                  343                    470   \n",
       "4          8.007353     76.066176                  343                    470   \n",
       "\n",
       "   Rocket Height (m)  Fairing Diameter (m)        Payload Name  \\\n",
       "0              22.25                   1.5         FalconSAT-2   \n",
       "1              22.25                   1.5             DemoSat   \n",
       "2              22.25                   1.5         Trailblazer   \n",
       "3              22.25                   1.5  PRESat, NanoSail-D   \n",
       "4              22.25                   1.5           Explorers   \n",
       "\n",
       "              Payload Type  Payload Mass (kg)    Payload Orbit Mission Status  \\\n",
       "0       Research Satellite                 19  Low Earth Orbit        Failure   \n",
       "1           Mass simulator               3443  Low Earth Orbit        Failure   \n",
       "2  Communication Satellite               3443  Low Earth Orbit        Failure   \n",
       "3      Research Satellites                  8  Low Earth Orbit        Failure   \n",
       "4            Human Remains               3443  Low Earth Orbit        Failure   \n",
       "\n",
       "   vehicle_type  \n",
       "0             0  \n",
       "1             0  \n",
       "2             0  \n",
       "3             0  \n",
       "4             0  "
      ]
     },
     "execution_count": 202,
     "metadata": {},
     "output_type": "execute_result"
    }
   ],
   "source": [
    "#Vehicle Type\n",
    "titles = {\"Falcon\": 0, \"Delta\": 1, \"Titan\": 2, \"Ariane\": 3, \"Vega\": 4, \"VLS\": 5}\n",
    "\n",
    "# extract titles\n",
    "data['vehicle_type'] = data.Vehicle_Type.str.extract('([A-Za-z]+)', expand=False)\n",
    "# convert titles into numbers\n",
    "data['vehicle_type'] = data['vehicle_type'].map(titles)  \n",
    "\n",
    "data = data.drop(['Vehicle_Type'], axis=1)\n",
    "data.head()"
   ]
  },
  {
   "cell_type": "code",
   "execution_count": 203,
   "metadata": {},
   "outputs": [],
   "source": [
    "# Payload Name and Type\n",
    "#too much unique values, we're gonna have to drop them\n",
    "data = data.drop(['Payload Name', 'Payload Type'], axis = 1)"
   ]
  },
  {
   "cell_type": "code",
   "execution_count": 204,
   "metadata": {},
   "outputs": [
    {
     "data": {
      "text/plain": [
       "array(['Low Earth Orbit', 'Geostationary Transfer Orbit',\n",
       "       'Medium Earth Orbit', 'Sun-Synchronous Orbit', 'Polar Orbit',\n",
       "       'High Earth Orbit', 'Sun/Earth Orbit', 'Heliocentric Orbit',\n",
       "       'Suborbital', 'Mars Orbit', 'Earth-Moon L2'], dtype=object)"
      ]
     },
     "execution_count": 204,
     "metadata": {},
     "output_type": "execute_result"
    }
   ],
   "source": [
    "#Payload Orbit\n",
    "data['Payload Orbit'].unique()"
   ]
  },
  {
   "cell_type": "code",
   "execution_count": 205,
   "metadata": {},
   "outputs": [],
   "source": [
    "data.loc[data['Payload Orbit'] == 'Low Earth Orbit', 'Payload Orbit'] = 0\n",
    "data.loc[data['Payload Orbit'] == 'Geostationary Transfer Orbit', 'Payload Orbit'] = 1\n",
    "data.loc[data['Payload Orbit'] == 'Medium Earth Orbit', 'Payload Orbit'] = 2\n",
    "data.loc[data['Payload Orbit'] == 'Sun-Synchronous Orbit', 'Payload Orbit'] = 3\n",
    "data.loc[data['Payload Orbit'] == 'Polar Orbit', 'Payload Orbit'] = 4\n",
    "data.loc[data['Payload Orbit'] == 'High Earth Orbit', 'Payload Orbit'] = 5\n",
    "data.loc[data['Payload Orbit'] == 'Sun/Earth Orbit', 'Payload Orbit'] = 6\n",
    "data.loc[data['Payload Orbit'] == 'Heliocentric Orbit', 'Payload Orbit'] = 7\n",
    "data.loc[data['Payload Orbit'] == 'Suborbital', 'Payload Orbit'] = 8\n",
    "data.loc[data['Payload Orbit'] == 'Mars Orbit', 'Payload Orbit'] = 9\n",
    "data.loc[data['Payload Orbit'] == 'Earth-Moon L2', 'Payload Orbit'] = 10"
   ]
  },
  {
   "cell_type": "code",
   "execution_count": 206,
   "metadata": {},
   "outputs": [],
   "source": [
    "#Mission Status\n",
    "data.loc[data['Mission Status'] == 'Failure', 'Mission Status'] = 0\n",
    "data.loc[data['Mission Status'] == 'Success', 'Mission Status'] = 1"
   ]
  },
  {
   "cell_type": "code",
   "execution_count": 161,
   "metadata": {},
   "outputs": [
    {
     "data": {
      "text/html": [
       "<div>\n",
       "<style scoped>\n",
       "    .dataframe tbody tr th:only-of-type {\n",
       "        vertical-align: middle;\n",
       "    }\n",
       "\n",
       "    .dataframe tbody tr th {\n",
       "        vertical-align: top;\n",
       "    }\n",
       "\n",
       "    .dataframe thead th {\n",
       "        text-align: right;\n",
       "    }\n",
       "</style>\n",
       "<table border=\"1\" class=\"dataframe\">\n",
       "  <thead>\n",
       "    <tr style=\"text-align: right;\">\n",
       "      <th></th>\n",
       "      <th>Company</th>\n",
       "      <th>Launch Date</th>\n",
       "      <th>Launch Time</th>\n",
       "      <th>Launch Site</th>\n",
       "      <th>Temperature (° F)</th>\n",
       "      <th>Wind speed (MPH)</th>\n",
       "      <th>Humidity (%)</th>\n",
       "      <th>Liftoff Thrust (kN)</th>\n",
       "      <th>Payload to Orbit (kg)</th>\n",
       "      <th>Rocket Height (m)</th>\n",
       "      <th>Fairing Diameter (m)</th>\n",
       "      <th>Payload Mass (kg)</th>\n",
       "      <th>Payload Orbit</th>\n",
       "      <th>Mission Status</th>\n",
       "      <th>vehicle_type</th>\n",
       "    </tr>\n",
       "  </thead>\n",
       "  <tbody>\n",
       "    <tr>\n",
       "      <th>0</th>\n",
       "      <td>0</td>\n",
       "      <td>24 March 2006</td>\n",
       "      <td>22:30</td>\n",
       "      <td>0</td>\n",
       "      <td>86.000000</td>\n",
       "      <td>9.000000</td>\n",
       "      <td>74.000000</td>\n",
       "      <td>343</td>\n",
       "      <td>470</td>\n",
       "      <td>22.25</td>\n",
       "      <td>1.5</td>\n",
       "      <td>19</td>\n",
       "      <td>0</td>\n",
       "      <td>0</td>\n",
       "      <td>0</td>\n",
       "    </tr>\n",
       "    <tr>\n",
       "      <th>1</th>\n",
       "      <td>0</td>\n",
       "      <td>21 March 2007</td>\n",
       "      <td>1:10</td>\n",
       "      <td>0</td>\n",
       "      <td>70.441176</td>\n",
       "      <td>8.007353</td>\n",
       "      <td>76.066176</td>\n",
       "      <td>343</td>\n",
       "      <td>470</td>\n",
       "      <td>22.25</td>\n",
       "      <td>1.5</td>\n",
       "      <td>3443</td>\n",
       "      <td>0</td>\n",
       "      <td>0</td>\n",
       "      <td>0</td>\n",
       "    </tr>\n",
       "    <tr>\n",
       "      <th>2</th>\n",
       "      <td>0</td>\n",
       "      <td>3 August 2008</td>\n",
       "      <td>3:34</td>\n",
       "      <td>0</td>\n",
       "      <td>70.441176</td>\n",
       "      <td>8.007353</td>\n",
       "      <td>76.066176</td>\n",
       "      <td>343</td>\n",
       "      <td>470</td>\n",
       "      <td>22.25</td>\n",
       "      <td>1.5</td>\n",
       "      <td>3443</td>\n",
       "      <td>0</td>\n",
       "      <td>0</td>\n",
       "      <td>0</td>\n",
       "    </tr>\n",
       "    <tr>\n",
       "      <th>3</th>\n",
       "      <td>0</td>\n",
       "      <td>3 August 2008</td>\n",
       "      <td>3:34</td>\n",
       "      <td>0</td>\n",
       "      <td>70.441176</td>\n",
       "      <td>8.007353</td>\n",
       "      <td>76.066176</td>\n",
       "      <td>343</td>\n",
       "      <td>470</td>\n",
       "      <td>22.25</td>\n",
       "      <td>1.5</td>\n",
       "      <td>8</td>\n",
       "      <td>0</td>\n",
       "      <td>0</td>\n",
       "      <td>0</td>\n",
       "    </tr>\n",
       "    <tr>\n",
       "      <th>4</th>\n",
       "      <td>0</td>\n",
       "      <td>3 August 2008</td>\n",
       "      <td>3:34</td>\n",
       "      <td>0</td>\n",
       "      <td>70.441176</td>\n",
       "      <td>8.007353</td>\n",
       "      <td>76.066176</td>\n",
       "      <td>343</td>\n",
       "      <td>470</td>\n",
       "      <td>22.25</td>\n",
       "      <td>1.5</td>\n",
       "      <td>3443</td>\n",
       "      <td>0</td>\n",
       "      <td>0</td>\n",
       "      <td>0</td>\n",
       "    </tr>\n",
       "  </tbody>\n",
       "</table>\n",
       "</div>"
      ],
      "text/plain": [
       "  Company    Launch Date Launch Time Launch Site  Temperature (° F)  \\\n",
       "0       0  24 March 2006       22:30           0          86.000000   \n",
       "1       0  21 March 2007        1:10           0          70.441176   \n",
       "2       0  3 August 2008        3:34           0          70.441176   \n",
       "3       0  3 August 2008        3:34           0          70.441176   \n",
       "4       0  3 August 2008        3:34           0          70.441176   \n",
       "\n",
       "   Wind speed (MPH)  Humidity (%)  Liftoff Thrust (kN)  Payload to Orbit (kg)  \\\n",
       "0          9.000000     74.000000                  343                    470   \n",
       "1          8.007353     76.066176                  343                    470   \n",
       "2          8.007353     76.066176                  343                    470   \n",
       "3          8.007353     76.066176                  343                    470   \n",
       "4          8.007353     76.066176                  343                    470   \n",
       "\n",
       "   Rocket Height (m)  Fairing Diameter (m)  Payload Mass (kg) Payload Orbit  \\\n",
       "0              22.25                   1.5                 19             0   \n",
       "1              22.25                   1.5               3443             0   \n",
       "2              22.25                   1.5               3443             0   \n",
       "3              22.25                   1.5                  8             0   \n",
       "4              22.25                   1.5               3443             0   \n",
       "\n",
       "  Mission Status  vehicle_type  \n",
       "0              0             0  \n",
       "1              0             0  \n",
       "2              0             0  \n",
       "3              0             0  \n",
       "4              0             0  "
      ]
     },
     "execution_count": 161,
     "metadata": {},
     "output_type": "execute_result"
    }
   ],
   "source": [
    "data.head()"
   ]
  },
  {
   "cell_type": "code",
   "execution_count": 207,
   "metadata": {},
   "outputs": [
    {
     "data": {
      "text/html": [
       "<div>\n",
       "<style scoped>\n",
       "    .dataframe tbody tr th:only-of-type {\n",
       "        vertical-align: middle;\n",
       "    }\n",
       "\n",
       "    .dataframe tbody tr th {\n",
       "        vertical-align: top;\n",
       "    }\n",
       "\n",
       "    .dataframe thead th {\n",
       "        text-align: right;\n",
       "    }\n",
       "</style>\n",
       "<table border=\"1\" class=\"dataframe\">\n",
       "  <thead>\n",
       "    <tr style=\"text-align: right;\">\n",
       "      <th></th>\n",
       "      <th>Company</th>\n",
       "      <th>Launch Site</th>\n",
       "      <th>Temperature (° F)</th>\n",
       "      <th>Wind speed (MPH)</th>\n",
       "      <th>Humidity (%)</th>\n",
       "      <th>Liftoff Thrust (kN)</th>\n",
       "      <th>Payload to Orbit (kg)</th>\n",
       "      <th>Rocket Height (m)</th>\n",
       "      <th>Fairing Diameter (m)</th>\n",
       "      <th>Payload Mass (kg)</th>\n",
       "      <th>Payload Orbit</th>\n",
       "      <th>Mission Status</th>\n",
       "      <th>vehicle_type</th>\n",
       "      <th>Launch_Time</th>\n",
       "    </tr>\n",
       "  </thead>\n",
       "  <tbody>\n",
       "    <tr>\n",
       "      <th>0</th>\n",
       "      <td>0</td>\n",
       "      <td>0</td>\n",
       "      <td>86.000000</td>\n",
       "      <td>9.000000</td>\n",
       "      <td>74.000000</td>\n",
       "      <td>343</td>\n",
       "      <td>470</td>\n",
       "      <td>22.25</td>\n",
       "      <td>1.5</td>\n",
       "      <td>19</td>\n",
       "      <td>0</td>\n",
       "      <td>0</td>\n",
       "      <td>0</td>\n",
       "      <td>24 March 2006 22:30</td>\n",
       "    </tr>\n",
       "    <tr>\n",
       "      <th>1</th>\n",
       "      <td>0</td>\n",
       "      <td>0</td>\n",
       "      <td>70.441176</td>\n",
       "      <td>8.007353</td>\n",
       "      <td>76.066176</td>\n",
       "      <td>343</td>\n",
       "      <td>470</td>\n",
       "      <td>22.25</td>\n",
       "      <td>1.5</td>\n",
       "      <td>3443</td>\n",
       "      <td>0</td>\n",
       "      <td>0</td>\n",
       "      <td>0</td>\n",
       "      <td>21 March 2007 1:10</td>\n",
       "    </tr>\n",
       "    <tr>\n",
       "      <th>2</th>\n",
       "      <td>0</td>\n",
       "      <td>0</td>\n",
       "      <td>70.441176</td>\n",
       "      <td>8.007353</td>\n",
       "      <td>76.066176</td>\n",
       "      <td>343</td>\n",
       "      <td>470</td>\n",
       "      <td>22.25</td>\n",
       "      <td>1.5</td>\n",
       "      <td>3443</td>\n",
       "      <td>0</td>\n",
       "      <td>0</td>\n",
       "      <td>0</td>\n",
       "      <td>3 August 2008 3:34</td>\n",
       "    </tr>\n",
       "    <tr>\n",
       "      <th>3</th>\n",
       "      <td>0</td>\n",
       "      <td>0</td>\n",
       "      <td>70.441176</td>\n",
       "      <td>8.007353</td>\n",
       "      <td>76.066176</td>\n",
       "      <td>343</td>\n",
       "      <td>470</td>\n",
       "      <td>22.25</td>\n",
       "      <td>1.5</td>\n",
       "      <td>8</td>\n",
       "      <td>0</td>\n",
       "      <td>0</td>\n",
       "      <td>0</td>\n",
       "      <td>3 August 2008 3:34</td>\n",
       "    </tr>\n",
       "    <tr>\n",
       "      <th>4</th>\n",
       "      <td>0</td>\n",
       "      <td>0</td>\n",
       "      <td>70.441176</td>\n",
       "      <td>8.007353</td>\n",
       "      <td>76.066176</td>\n",
       "      <td>343</td>\n",
       "      <td>470</td>\n",
       "      <td>22.25</td>\n",
       "      <td>1.5</td>\n",
       "      <td>3443</td>\n",
       "      <td>0</td>\n",
       "      <td>0</td>\n",
       "      <td>0</td>\n",
       "      <td>3 August 2008 3:34</td>\n",
       "    </tr>\n",
       "  </tbody>\n",
       "</table>\n",
       "</div>"
      ],
      "text/plain": [
       "  Company Launch Site  Temperature (° F)  Wind speed (MPH)  Humidity (%)  \\\n",
       "0       0           0          86.000000          9.000000     74.000000   \n",
       "1       0           0          70.441176          8.007353     76.066176   \n",
       "2       0           0          70.441176          8.007353     76.066176   \n",
       "3       0           0          70.441176          8.007353     76.066176   \n",
       "4       0           0          70.441176          8.007353     76.066176   \n",
       "\n",
       "   Liftoff Thrust (kN)  Payload to Orbit (kg)  Rocket Height (m)  \\\n",
       "0                  343                    470              22.25   \n",
       "1                  343                    470              22.25   \n",
       "2                  343                    470              22.25   \n",
       "3                  343                    470              22.25   \n",
       "4                  343                    470              22.25   \n",
       "\n",
       "   Fairing Diameter (m)  Payload Mass (kg) Payload Orbit Mission Status  \\\n",
       "0                   1.5                 19             0              0   \n",
       "1                   1.5               3443             0              0   \n",
       "2                   1.5               3443             0              0   \n",
       "3                   1.5                  8             0              0   \n",
       "4                   1.5               3443             0              0   \n",
       "\n",
       "   vehicle_type          Launch_Time  \n",
       "0             0  24 March 2006 22:30  \n",
       "1             0   21 March 2007 1:10  \n",
       "2             0   3 August 2008 3:34  \n",
       "3             0   3 August 2008 3:34  \n",
       "4             0   3 August 2008 3:34  "
      ]
     },
     "execution_count": 207,
     "metadata": {},
     "output_type": "execute_result"
    }
   ],
   "source": [
    "# Launch Date and Launch Time\n",
    "data['Launch Date'] = data['Launch Date'].astype(str)\n",
    "data['Launch Time'] = data['Launch Time'].astype(str)\n",
    "#merging the columns\n",
    "data['Launch_Time'] = data['Launch Date'].str.cat(data['Launch Time'],sep=\" \")\n",
    "data = data.drop(['Launch Time', 'Launch Date'], axis = 1)\n",
    "data.head()"
   ]
  },
  {
   "cell_type": "code",
   "execution_count": 208,
   "metadata": {},
   "outputs": [],
   "source": [
    "#convert to datetime\n",
    "from datetime import datetime\n",
    "data['Launch_Time'] = data['Launch_Time'].map(lambda x: datetime.strptime(x, '%d %B %Y %H:%M'))"
   ]
  },
  {
   "cell_type": "code",
   "execution_count": 209,
   "metadata": {},
   "outputs": [
    {
     "data": {
      "text/plain": [
       "array([1.5 , 5.2 , 2.9 , 4.  , 5.1 , 3.  , 1.52, 1.  , 2.6 , 5.4 ])"
      ]
     },
     "execution_count": 209,
     "metadata": {},
     "output_type": "execute_result"
    }
   ],
   "source": [
    "# Fairing Diameter (European Space Agency)\n",
    "data['Fairing Diameter (m)'].unique()"
   ]
  },
  {
   "cell_type": "code",
   "execution_count": 210,
   "metadata": {},
   "outputs": [],
   "source": [
    "data.loc[data['Fairing Diameter (m)'] == \"European Space Agency\", 'Fairing Diameter (m)'] = 5.2"
   ]
  },
  {
   "cell_type": "code",
   "execution_count": 211,
   "metadata": {},
   "outputs": [
    {
     "data": {
      "text/plain": [
       "array([1.5 , 5.2 , 2.9 , 4.  , 5.1 , 3.  , 1.52, 1.  , 2.6 , 5.4 ])"
      ]
     },
     "execution_count": 211,
     "metadata": {},
     "output_type": "execute_result"
    }
   ],
   "source": [
    "#Fairing diameter\n",
    "data['Fairing Diameter (m)'].unique()"
   ]
  },
  {
   "cell_type": "code",
   "execution_count": 212,
   "metadata": {},
   "outputs": [
    {
     "data": {
      "text/plain": [
       "array([1.5 , 5.2 , 2.9 , 4.  , 5.1 , 3.  , 1.52, 1.  , 2.6 , 5.4 ])"
      ]
     },
     "execution_count": 212,
     "metadata": {},
     "output_type": "execute_result"
    }
   ],
   "source": [
    "for a in data['Fairing Diameter (m)']:\n",
    "    if a == 'European Space Agency':\n",
    "        a = 5.2\n",
    "        \n",
    "\n",
    "data['Fairing Diameter (m)'].unique()"
   ]
  },
  {
   "cell_type": "markdown",
   "metadata": {},
   "source": [
    "## Different variable realtion to Mission Status"
   ]
  },
  {
   "cell_type": "code",
   "execution_count": 168,
   "metadata": {},
   "outputs": [
    {
     "data": {
      "text/plain": [
       "<AxesSubplot:xlabel='vehicle_type', ylabel='Mission Status'>"
      ]
     },
     "execution_count": 168,
     "metadata": {},
     "output_type": "execute_result"
    },
    {
     "data": {
      "image/png": "[encoded data removed]",
      "text/plain": [
       "<Figure size 432x288 with 1 Axes>"
      ]
     },
     "metadata": {
      "needs_background": "light"
     },
     "output_type": "display_data"
    }
   ],
   "source": [
    "#vehicle type\n",
    "sns.lineplot(x='vehicle_type', y='Mission Status', data=data)"
   ]
  },
  {
   "cell_type": "code",
   "execution_count": 169,
   "metadata": {},
   "outputs": [
    {
     "data": {
      "image/png": "[encoded data removed]",
      "text/plain": [
       "<Figure size 432x288 with 1 Axes>"
      ]
     },
     "metadata": {
      "needs_background": "light"
     },
     "output_type": "display_data"
    }
   ],
   "source": [
    "#launch site\n",
    "ax =sns.barplot(x='Launch Site', y='Mission Status', data=data)\n",
    "#ax.tick_params(axis='x', labelrotation = 90)"
   ]
  },
  {
   "cell_type": "code",
   "execution_count": 170,
   "metadata": {},
   "outputs": [
    {
     "data": {
      "text/plain": [
       "<AxesSubplot:xlabel='Temperature (° F)', ylabel='Mission Status'>"
      ]
     },
     "execution_count": 170,
     "metadata": {},
     "output_type": "execute_result"
    },
    {
     "data": {
      "image/png": "[encoded data removed]",
      "text/plain": [
       "<Figure size 432x288 with 1 Axes>"
      ]
     },
     "metadata": {
      "needs_background": "light"
     },
     "output_type": "display_data"
    }
   ],
   "source": [
    "# Temperature\n",
    "sns.lineplot(x='Temperature (° F)', y='Mission Status', data=data)"
   ]
  },
  {
   "cell_type": "code",
   "execution_count": 171,
   "metadata": {},
   "outputs": [
    {
     "data": {
      "text/plain": [
       "<AxesSubplot:xlabel='Wind speed (MPH)', ylabel='Mission Status'>"
      ]
     },
     "execution_count": 171,
     "metadata": {},
     "output_type": "execute_result"
    },
    {
     "data": {
      "image/png": "[encoded data removed]",
      "text/plain": [
       "<Figure size 432x288 with 1 Axes>"
      ]
     },
     "metadata": {
      "needs_background": "light"
     },
     "output_type": "display_data"
    }
   ],
   "source": [
    "#wind speed\n",
    "sns.lineplot(x='Wind speed (MPH)', y='Mission Status', data=data)"
   ]
  },
  {
   "cell_type": "code",
   "execution_count": 172,
   "metadata": {},
   "outputs": [
    {
     "data": {
      "text/plain": [
       "<AxesSubplot:xlabel='Humidity (%)', ylabel='Mission Status'>"
      ]
     },
     "execution_count": 172,
     "metadata": {},
     "output_type": "execute_result"
    },
    {
     "data": {
      "image/png": "[encoded data removed]",
      "text/plain": [
       "<Figure size 432x288 with 1 Axes>"
      ]
     },
     "metadata": {
      "needs_background": "light"
     },
     "output_type": "display_data"
    }
   ],
   "source": [
    "#humidity\n",
    "sns.lineplot(x='Humidity (%)', y='Mission Status', data=data)"
   ]
  },
  {
   "cell_type": "code",
   "execution_count": 173,
   "metadata": {},
   "outputs": [
    {
     "data": {
      "text/plain": [
       "<AxesSubplot:xlabel='Liftoff Thrust (kN)', ylabel='Mission Status'>"
      ]
     },
     "execution_count": 173,
     "metadata": {},
     "output_type": "execute_result"
    },
    {
     "data": {
      "image/png": "[encoded data removed]",
      "text/plain": [
       "<Figure size 432x288 with 1 Axes>"
      ]
     },
     "metadata": {
      "needs_background": "light"
     },
     "output_type": "display_data"
    }
   ],
   "source": [
    "#liftoff thrust\n",
    "sns.lineplot(x='Liftoff Thrust (kN)', y='Mission Status', data=data)"
   ]
  },
  {
   "cell_type": "code",
   "execution_count": 174,
   "metadata": {},
   "outputs": [
    {
     "data": {
      "text/plain": [
       "<AxesSubplot:xlabel='Payload Orbit', ylabel='Mission Status'>"
      ]
     },
     "execution_count": 174,
     "metadata": {},
     "output_type": "execute_result"
    },
    {
     "data": {
      "image/png": "[encoded data removed]",
      "text/plain": [
       "<Figure size 432x288 with 1 Axes>"
      ]
     },
     "metadata": {
      "needs_background": "light"
     },
     "output_type": "display_data"
    }
   ],
   "source": [
    "# Payload Orbit\n",
    "sns.lineplot(x='Payload Orbit', y='Mission Status', data=data)\n",
    "\n"
   ]
  },
  {
   "cell_type": "code",
   "execution_count": 175,
   "metadata": {},
   "outputs": [
    {
     "data": {
      "text/plain": [
       "<AxesSubplot:xlabel='Launch_Time', ylabel='Mission Status'>"
      ]
     },
     "execution_count": 175,
     "metadata": {},
     "output_type": "execute_result"
    },
    {
     "data": {
      "image/png": "[encoded data removed]",
      "text/plain": [
       "<Figure size 432x288 with 1 Axes>"
      ]
     },
     "metadata": {
      "needs_background": "light"
     },
     "output_type": "display_data"
    }
   ],
   "source": [
    "#launch time\n",
    "sns.lineplot(x='Launch_Time', y='Mission Status', data=data)"
   ]
  },
  {
   "cell_type": "markdown",
   "metadata": {},
   "source": [
    "#### Most of these variables have unique relationships w/the mission status.\n",
    "#### For the case of vehicle type, company, Launch Site and Payload Orbit its pretty clearer."
   ]
  },
  {
   "cell_type": "markdown",
   "metadata": {},
   "source": [
    "## Model Fitting"
   ]
  },
  {
   "cell_type": "code",
   "execution_count": 234,
   "metadata": {},
   "outputs": [
    {
     "data": {
      "text/plain": [
       "1    120\n",
       "0     30\n",
       "Name: Mission Status, dtype: int64"
      ]
     },
     "execution_count": 234,
     "metadata": {},
     "output_type": "execute_result"
    }
   ],
   "source": [
    "data['Mission Status'].value_counts()"
   ]
  },
  {
   "cell_type": "code",
   "execution_count": 238,
   "metadata": {},
   "outputs": [],
   "source": [
    "#splitting dataset to train and test sets\n",
    "x = data.iloc[:, [0,1,2,3,4,5,6,7,8,9,10,12]]\n",
    "y = data[\"Mission Status\"]\n",
    "y=y.astype('int')\n",
    "\n",
    "from sklearn.model_selection import train_test_split\n",
    "x_train, x_test, y_train, y_test = train_test_split(x,y, test_size = 0.2, random_state = 42)\n"
   ]
  },
  {
   "cell_type": "code",
   "execution_count": 240,
   "metadata": {},
   "outputs": [
    {
     "data": {
      "text/plain": [
       "array([[ 4,  2],\n",
       "       [ 2, 22]])"
      ]
     },
     "execution_count": 240,
     "metadata": {},
     "output_type": "execute_result"
    }
   ],
   "source": [
    "# Fitting Random Forest Classification to Training set\n",
    "from sklearn.ensemble import RandomForestClassifier\n",
    "random_forest = RandomForestClassifier(n_estimators=100)\n",
    "random_forest.fit(x_train, y_train)\n",
    "\n",
    "y_pred = random_forest.predict(x_test)\n",
    "\n",
    "# Confusion Matrix\n",
    "from sklearn.metrics import confusion_matrix\n",
    "cm = confusion_matrix(y_test, y_pred)\n",
    "cm"
   ]
  },
  {
   "cell_type": "markdown",
   "metadata": {},
   "source": [
    "92.8% accurate"
   ]
  },
  {
   "cell_type": "code",
   "execution_count": 241,
   "metadata": {},
   "outputs": [
    {
     "data": {
      "text/plain": [
       "array([[ 5,  1],\n",
       "       [ 7, 17]])"
      ]
     },
     "execution_count": 241,
     "metadata": {},
     "output_type": "execute_result"
    }
   ],
   "source": [
    "# Feature Scaling\n",
    "from sklearn.preprocessing import StandardScaler\n",
    "sc = StandardScaler()\n",
    "x_train = sc.fit_transform(x_train)\n",
    "x_test = sc.transform(x_test)\n",
    "\n",
    "# Fitting Naive Bayes Algorithm to Training set\n",
    "from sklearn.naive_bayes import GaussianNB\n",
    "classifier = GaussianNB()\n",
    "classifier.fit(x_train, y_train)\n",
    "\n",
    "# Predicting Test set results\n",
    "y_pred = classifier.predict(x_test)\n",
    "\n",
    "# Confusion Matrix\n",
    "from sklearn.metrics import confusion_matrix\n",
    "cm = confusion_matrix(y_test, y_pred)\n",
    "cm"
   ]
  },
  {
   "cell_type": "markdown",
   "metadata": {},
   "source": [
    "90% accurate"
   ]
  },
  {
   "cell_type": "code",
   "execution_count": 242,
   "metadata": {},
   "outputs": [
    {
     "data": {
      "text/plain": [
       "array([[ 3,  3],\n",
       "       [ 2, 22]])"
      ]
     },
     "execution_count": 242,
     "metadata": {},
     "output_type": "execute_result"
    }
   ],
   "source": [
    "# Feature Scaling\n",
    "from sklearn.preprocessing import StandardScaler\n",
    "sc = StandardScaler()\n",
    "x_train = sc.fit_transform(x_train)\n",
    "x_test = sc.transform(x_test)\n",
    "\n",
    "# Fitting k-NN to Training set\n",
    "from sklearn.neighbors import KNeighborsClassifier\n",
    "classifier = KNeighborsClassifier(n_neighbors=5, metric='minkowski', p=2)\n",
    "classifier.fit(x_train, y_train)\n",
    "\n",
    "# Predicting Test set results\n",
    "y_pred = classifier.predict(x_test)\n",
    "\n",
    "# Confusion Matrix\n",
    "from sklearn.metrics import confusion_matrix\n",
    "cm = confusion_matrix(y_test, y_pred)\n",
    "cm"
   ]
  },
  {
   "cell_type": "markdown",
   "metadata": {},
   "source": [
    "93.3% accurate"
   ]
  },
  {
   "cell_type": "code",
   "execution_count": 243,
   "metadata": {},
   "outputs": [
    {
     "data": {
      "text/plain": [
       "array([[ 3,  3],\n",
       "       [ 2, 22]])"
      ]
     },
     "execution_count": 243,
     "metadata": {},
     "output_type": "execute_result"
    }
   ],
   "source": [
    "# Feature Scaling\n",
    "from sklearn.preprocessing import StandardScaler\n",
    "sc = StandardScaler()\n",
    "x_train = sc.fit_transform(x_train)\n",
    "x_test = sc.transform(x_test)\n",
    "\n",
    "# Fitting Logistic Regression to Training set\n",
    "from sklearn.linear_model import LogisticRegression\n",
    "classifier = LogisticRegression(random_state=0, solver='lbfgs')\n",
    "classifier.fit(x_train, y_train)\n",
    "\n",
    "\n",
    "# Predicting Test set results\n",
    "Y_pred = classifier.predict(x_test)\n",
    "\n",
    "# Confusion Matrix\n",
    "from sklearn.metrics import confusion_matrix\n",
    "cm = confusion_matrix(y_test, y_pred)\n",
    "cm"
   ]
  },
  {
   "cell_type": "markdown",
   "metadata": {},
   "source": [
    "93.3% acccurate"
   ]
  }
 ],
 "metadata": {
  "kernelspec": {
   "display_name": "Python 3 (ipykernel)",
   "language": "python",
   "name": "python3"
  },
  "language_info": {
   "codemirror_mode": {
    "name": "ipython",
    "version": 3
   },
   "file_extension": ".py",
   "mimetype": "text/x-python",
   "name": "python",
   "nbconvert_exporter": "python",
   "pygments_lexer": "ipython3",
   "version": "3.9.7"
  }
 },
 "nbformat": 4,
 "nbformat_minor": 4
}
